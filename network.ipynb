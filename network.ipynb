{
 "cells": [
  {
   "cell_type": "code",
   "id": "initial_id",
   "metadata": {
    "collapsed": true,
    "ExecuteTime": {
     "end_time": "2024-05-24T04:47:10.025786Z",
     "start_time": "2024-05-24T04:47:10.022448Z"
    }
   },
   "source": [
    "import torch\n",
    "import torch.nn as nn\n",
    "import torch.nn.functional as F\n",
    "import torchvision\n",
    "from tqdm import tqdm\n",
    "import numpy as np\n",
    "import pandas as pd\n",
    "from sklearn import preprocessing\n",
    "import matplotlib.pyplot as plt\n",
    "import cv2\n",
    "import os"
   ],
   "outputs": [],
   "execution_count": 73
  },
  {
   "metadata": {
    "ExecuteTime": {
     "end_time": "2024-05-24T04:47:10.035740Z",
     "start_time": "2024-05-24T04:47:10.028824Z"
    }
   },
   "cell_type": "code",
   "source": [
    "def data_preparation(train_data_path: str, test_data_path: str) -> tuple[pd.DataFrame, pd.DataFrame]:\n",
    "    raw_train_data_df = pd.read_csv(train_data_path, index_col=0)\n",
    "    train_SalePrice = raw_train_data_df.pop(\"SalePrice\")\n",
    "    numeric_features = raw_train_data_df.select_dtypes(include=\"number\").columns.tolist()\n",
    "    train_data_df = pd.get_dummies(raw_train_data_df, dtype=\"float32\")\n",
    "    train_data_df.fillna(value=0.0, inplace=True)\n",
    "    train_data_df[\"SalePrice\"] = train_SalePrice.apply(np.log)\n",
    "\n",
    "    raw_test_data_df = pd.read_csv(test_data_path, index_col=0)\n",
    "    test_data_df = pd.get_dummies(raw_test_data_df, dtype=\"float32\")\n",
    "    test_data_df = test_data_df.reindex(columns=train_data_df.columns, fill_value=0)\n",
    "    test_data_df.fillna(value=0.0, inplace=True)\n",
    "\n",
    "    standard_scaler = preprocessing.StandardScaler()\n",
    "    train_data_df[numeric_features] = standard_scaler.fit_transform(train_data_df[numeric_features])\n",
    "    test_data_df[numeric_features] = standard_scaler.transform(test_data_df[numeric_features])\n",
    "\n",
    "    return train_data_df, test_data_df"
   ],
   "id": "875585154524813b",
   "outputs": [],
   "execution_count": 74
  },
  {
   "metadata": {
    "ExecuteTime": {
     "end_time": "2024-05-24T04:47:10.041080Z",
     "start_time": "2024-05-24T04:47:10.036908Z"
    }
   },
   "cell_type": "code",
   "source": [
    "class HouseDataset(torch.utils.data.Dataset):\n",
    "    def __init__(self, df: pd.DataFrame):\n",
    "        prices = df.pop(\"SalePrice\").values\n",
    "        features = df.values\n",
    "        \n",
    "        self.features = torch.tensor(features, dtype=torch.float32)\n",
    "        self.prices = torch.tensor(prices, dtype=torch.float32)\n",
    "        \n",
    "    def __len__(self):\n",
    "        return len(self.features)\n",
    "    \n",
    "    def __getitem__(self, idx):\n",
    "        return self.features[idx], self.prices[idx]"
   ],
   "id": "747d5e7a5120bd7",
   "outputs": [],
   "execution_count": 75
  },
  {
   "metadata": {
    "ExecuteTime": {
     "end_time": "2024-05-24T04:47:10.123856Z",
     "start_time": "2024-05-24T04:47:10.042182Z"
    }
   },
   "cell_type": "code",
   "source": [
    "train_path = \"./data/train.csv\"\n",
    "test_path = \"./data/test.csv\"\n",
    "\n",
    "full_train_dataset_df, test_dataset_df = data_preparation(train_path, test_path)\n",
    "full_train_dataset = HouseDataset(full_train_dataset_df)\n",
    "\n",
    "print(type(full_train_dataset))\n",
    "print(type(full_train_dataset[0]))\n",
    "print(type(full_train_dataset[0][0]))\n",
    "print(type(full_train_dataset[0][1]))\n",
    "print(full_train_dataset[0][1])\n",
    "print(full_train_dataset[0][0].shape)\n",
    "print(full_train_dataset[0][1].shape)\n",
    "print(full_train_dataset[0][0])"
   ],
   "id": "6153974ef503b88f",
   "outputs": [
    {
     "name": "stdout",
     "output_type": "stream",
     "text": [
      "<class '__main__.HouseDataset'>\n",
      "<class 'tuple'>\n",
      "<class 'torch.Tensor'>\n",
      "<class 'torch.Tensor'>\n",
      "tensor(12.2477)\n",
      "torch.Size([287])\n",
      "torch.Size([])\n",
      "tensor([ 0.0734,  0.2129, -0.2071,  0.6515, -0.5172,  1.0510,  0.8787,  0.5141,\n",
      "         0.5754, -0.2887, -0.9446, -0.4593, -0.7934,  1.1619, -0.1202,  0.3703,\n",
      "         1.1078, -0.2411,  0.7897,  1.2276,  0.1638, -0.2115,  0.9122, -0.9512,\n",
      "         0.2960,  0.3117,  0.3510, -0.7522,  0.2165, -0.3593, -0.1163, -0.2702,\n",
      "        -0.0687, -0.0877, -1.5991,  0.1388,  0.0000,  0.0000,  0.0000,  1.0000,\n",
      "         0.0000,  0.0000,  1.0000,  0.0000,  0.0000,  0.0000,  0.0000,  0.0000,\n",
      "         1.0000,  0.0000,  0.0000,  0.0000,  1.0000,  1.0000,  0.0000,  0.0000,\n",
      "         0.0000,  0.0000,  0.0000,  1.0000,  1.0000,  0.0000,  0.0000,  0.0000,\n",
      "         0.0000,  0.0000,  0.0000,  0.0000,  1.0000,  0.0000,  0.0000,  0.0000,\n",
      "         0.0000,  0.0000,  0.0000,  0.0000,  0.0000,  0.0000,  0.0000,  0.0000,\n",
      "         0.0000,  0.0000,  0.0000,  0.0000,  0.0000,  0.0000,  0.0000,  0.0000,\n",
      "         0.0000,  0.0000,  1.0000,  0.0000,  0.0000,  0.0000,  0.0000,  0.0000,\n",
      "         0.0000,  0.0000,  0.0000,  1.0000,  0.0000,  0.0000,  0.0000,  0.0000,\n",
      "         0.0000,  1.0000,  0.0000,  0.0000,  0.0000,  0.0000,  0.0000,  0.0000,\n",
      "         0.0000,  0.0000,  0.0000,  1.0000,  0.0000,  0.0000,  0.0000,  1.0000,\n",
      "         0.0000,  0.0000,  0.0000,  0.0000,  0.0000,  1.0000,  0.0000,  0.0000,\n",
      "         0.0000,  0.0000,  0.0000,  0.0000,  0.0000,  0.0000,  0.0000,  0.0000,\n",
      "         0.0000,  0.0000,  0.0000,  0.0000,  0.0000,  0.0000,  0.0000,  0.0000,\n",
      "         1.0000,  0.0000,  0.0000,  0.0000,  0.0000,  0.0000,  0.0000,  0.0000,\n",
      "         0.0000,  0.0000,  0.0000,  0.0000,  0.0000,  0.0000,  0.0000,  0.0000,\n",
      "         1.0000,  0.0000,  0.0000,  0.0000,  1.0000,  0.0000,  0.0000,  0.0000,\n",
      "         1.0000,  0.0000,  0.0000,  0.0000,  0.0000,  0.0000,  1.0000,  0.0000,\n",
      "         0.0000,  1.0000,  0.0000,  0.0000,  0.0000,  0.0000,  0.0000,  1.0000,\n",
      "         0.0000,  0.0000,  0.0000,  0.0000,  1.0000,  0.0000,  0.0000,  0.0000,\n",
      "         1.0000,  0.0000,  0.0000,  1.0000,  0.0000,  0.0000,  0.0000,  0.0000,\n",
      "         0.0000,  0.0000,  0.0000,  0.0000,  1.0000,  0.0000,  1.0000,  0.0000,\n",
      "         0.0000,  0.0000,  0.0000,  1.0000,  0.0000,  0.0000,  0.0000,  0.0000,\n",
      "         0.0000,  1.0000,  0.0000,  0.0000,  0.0000,  0.0000,  1.0000,  0.0000,\n",
      "         0.0000,  1.0000,  0.0000,  0.0000,  0.0000,  0.0000,  0.0000,  0.0000,\n",
      "         0.0000,  1.0000,  0.0000,  0.0000,  0.0000,  0.0000,  0.0000,  0.0000,\n",
      "         1.0000,  0.0000,  0.0000,  0.0000,  0.0000,  0.0000,  1.0000,  0.0000,\n",
      "         0.0000,  0.0000,  0.0000,  0.0000,  1.0000,  0.0000,  0.0000,  0.0000,\n",
      "         0.0000,  1.0000,  0.0000,  0.0000,  1.0000,  0.0000,  0.0000,  0.0000,\n",
      "         0.0000,  0.0000,  0.0000,  0.0000,  0.0000,  0.0000,  0.0000,  0.0000,\n",
      "         0.0000,  0.0000,  0.0000,  0.0000,  0.0000,  0.0000,  0.0000,  0.0000,\n",
      "         1.0000,  0.0000,  0.0000,  0.0000,  0.0000,  1.0000,  0.0000])\n"
     ]
    }
   ],
   "execution_count": 76
  },
  {
   "cell_type": "code",
   "source": [
    "train_path = \"./data/train.csv\"\n",
    "test_path = \"./data/test.csv\"\n",
    "\n",
    "full_train_dataset_df, test_dataset_df = data_preparation(train_path, test_path)\n",
    "\n",
    "full_train_dataset = HouseDataset(full_train_dataset_df)\n",
    "\n",
    "train_dataset, val_dataset = torch.utils.data.random_split(full_train_dataset, [0.95, 0.05])\n",
    "train_dataloader = torch.utils.data.DataLoader(train_dataset, batch_size=16 ,shuffle=True)\n",
    "val_dataloader = torch.utils.data.DataLoader(val_dataset, batch_size=16)\n",
    "\n",
    "test_dataset = HouseDataset(test_dataset_df)\n",
    "test_dataloader = torch.utils.data.DataLoader(test_dataset, batch_size=16)"
   ],
   "metadata": {
    "collapsed": false,
    "ExecuteTime": {
     "end_time": "2024-05-24T04:47:10.208115Z",
     "start_time": "2024-05-24T04:47:10.125195Z"
    }
   },
   "id": "97c4dab8feb1da34",
   "outputs": [],
   "execution_count": 77
  },
  {
   "metadata": {
    "ExecuteTime": {
     "end_time": "2024-05-24T04:47:10.214134Z",
     "start_time": "2024-05-24T04:47:10.208914Z"
    }
   },
   "cell_type": "code",
   "source": [
    "print(len(full_train_dataset))\n",
    "print(len(train_dataset))\n",
    "print(len(val_dataset))\n",
    "a, b = full_train_dataset[0]\n",
    "print(a)\n",
    "print(b)\n"
   ],
   "id": "6d77d6320cf87dc9",
   "outputs": [
    {
     "name": "stdout",
     "output_type": "stream",
     "text": [
      "1460\n",
      "1387\n",
      "73\n",
      "tensor([ 0.0734,  0.2129, -0.2071,  0.6515, -0.5172,  1.0510,  0.8787,  0.5141,\n",
      "         0.5754, -0.2887, -0.9446, -0.4593, -0.7934,  1.1619, -0.1202,  0.3703,\n",
      "         1.1078, -0.2411,  0.7897,  1.2276,  0.1638, -0.2115,  0.9122, -0.9512,\n",
      "         0.2960,  0.3117,  0.3510, -0.7522,  0.2165, -0.3593, -0.1163, -0.2702,\n",
      "        -0.0687, -0.0877, -1.5991,  0.1388,  0.0000,  0.0000,  0.0000,  1.0000,\n",
      "         0.0000,  0.0000,  1.0000,  0.0000,  0.0000,  0.0000,  0.0000,  0.0000,\n",
      "         1.0000,  0.0000,  0.0000,  0.0000,  1.0000,  1.0000,  0.0000,  0.0000,\n",
      "         0.0000,  0.0000,  0.0000,  1.0000,  1.0000,  0.0000,  0.0000,  0.0000,\n",
      "         0.0000,  0.0000,  0.0000,  0.0000,  1.0000,  0.0000,  0.0000,  0.0000,\n",
      "         0.0000,  0.0000,  0.0000,  0.0000,  0.0000,  0.0000,  0.0000,  0.0000,\n",
      "         0.0000,  0.0000,  0.0000,  0.0000,  0.0000,  0.0000,  0.0000,  0.0000,\n",
      "         0.0000,  0.0000,  1.0000,  0.0000,  0.0000,  0.0000,  0.0000,  0.0000,\n",
      "         0.0000,  0.0000,  0.0000,  1.0000,  0.0000,  0.0000,  0.0000,  0.0000,\n",
      "         0.0000,  1.0000,  0.0000,  0.0000,  0.0000,  0.0000,  0.0000,  0.0000,\n",
      "         0.0000,  0.0000,  0.0000,  1.0000,  0.0000,  0.0000,  0.0000,  1.0000,\n",
      "         0.0000,  0.0000,  0.0000,  0.0000,  0.0000,  1.0000,  0.0000,  0.0000,\n",
      "         0.0000,  0.0000,  0.0000,  0.0000,  0.0000,  0.0000,  0.0000,  0.0000,\n",
      "         0.0000,  0.0000,  0.0000,  0.0000,  0.0000,  0.0000,  0.0000,  0.0000,\n",
      "         1.0000,  0.0000,  0.0000,  0.0000,  0.0000,  0.0000,  0.0000,  0.0000,\n",
      "         0.0000,  0.0000,  0.0000,  0.0000,  0.0000,  0.0000,  0.0000,  0.0000,\n",
      "         1.0000,  0.0000,  0.0000,  0.0000,  1.0000,  0.0000,  0.0000,  0.0000,\n",
      "         1.0000,  0.0000,  0.0000,  0.0000,  0.0000,  0.0000,  1.0000,  0.0000,\n",
      "         0.0000,  1.0000,  0.0000,  0.0000,  0.0000,  0.0000,  0.0000,  1.0000,\n",
      "         0.0000,  0.0000,  0.0000,  0.0000,  1.0000,  0.0000,  0.0000,  0.0000,\n",
      "         1.0000,  0.0000,  0.0000,  1.0000,  0.0000,  0.0000,  0.0000,  0.0000,\n",
      "         0.0000,  0.0000,  0.0000,  0.0000,  1.0000,  0.0000,  1.0000,  0.0000,\n",
      "         0.0000,  0.0000,  0.0000,  1.0000,  0.0000,  0.0000,  0.0000,  0.0000,\n",
      "         0.0000,  1.0000,  0.0000,  0.0000,  0.0000,  0.0000,  1.0000,  0.0000,\n",
      "         0.0000,  1.0000,  0.0000,  0.0000,  0.0000,  0.0000,  0.0000,  0.0000,\n",
      "         0.0000,  1.0000,  0.0000,  0.0000,  0.0000,  0.0000,  0.0000,  0.0000,\n",
      "         1.0000,  0.0000,  0.0000,  0.0000,  0.0000,  0.0000,  1.0000,  0.0000,\n",
      "         0.0000,  0.0000,  0.0000,  0.0000,  1.0000,  0.0000,  0.0000,  0.0000,\n",
      "         0.0000,  1.0000,  0.0000,  0.0000,  1.0000,  0.0000,  0.0000,  0.0000,\n",
      "         0.0000,  0.0000,  0.0000,  0.0000,  0.0000,  0.0000,  0.0000,  0.0000,\n",
      "         0.0000,  0.0000,  0.0000,  0.0000,  0.0000,  0.0000,  0.0000,  0.0000,\n",
      "         1.0000,  0.0000,  0.0000,  0.0000,  0.0000,  1.0000,  0.0000])\n",
      "tensor(12.2477)\n"
     ]
    }
   ],
   "execution_count": 78
  },
  {
   "cell_type": "code",
   "source": [
    "class HouseNetwork(nn.Module):\n",
    "    def __init__(self):\n",
    "        super().__init__()\n",
    "        self.fc1 = nn.Linear(287, 200)\n",
    "        self.dropout1 = nn.Dropout(0.2)\n",
    "        self.fc2 = nn.Linear(200, 200)\n",
    "        self.dropout2 = nn.Dropout(0.2)\n",
    "        self.fc3 = nn.Linear(200, 1)\n",
    "        self.activation = nn.ReLU()\n",
    "        \n",
    "    def forward(self, x):\n",
    "        x = self.dropout1(self.activation(self.fc1(x)))\n",
    "        x = self.dropout2(self.activation(self.fc2(x)))\n",
    "        x = self.fc3(x)\n",
    "        return x\n",
    "    "
   ],
   "metadata": {
    "collapsed": false,
    "ExecuteTime": {
     "end_time": "2024-05-24T04:47:10.218553Z",
     "start_time": "2024-05-24T04:47:10.215212Z"
    }
   },
   "id": "a1bd03b8ca7b2ae9",
   "outputs": [],
   "execution_count": 79
  },
  {
   "cell_type": "code",
   "source": [
    "model = HouseNetwork()\n",
    "loss_fun = nn.MSELoss()\n",
    "#optimizer = torch.optim.SGD(model.parameters(), lr = 0.0001, momentum=0.9)\n",
    "optimizer = torch.optim.Adam(model.parameters(), lr=0.0001)"
   ],
   "metadata": {
    "collapsed": false,
    "ExecuteTime": {
     "end_time": "2024-05-24T04:47:10.225754Z",
     "start_time": "2024-05-24T04:47:10.219381Z"
    }
   },
   "id": "45b010961e91fce9",
   "outputs": [],
   "execution_count": 80
  },
  {
   "cell_type": "code",
   "source": [
    "epochs = 20000\n",
    "\n",
    "model.train()\n",
    "# Цикл обучения\n",
    "for epoch in range(epochs):\n",
    "    epoch_loss = 0.0\n",
    "    for house, price in train_dataloader:\n",
    "        optimizer.zero_grad()\n",
    "        prediction = model(house)\n",
    "        prediction = prediction.squeeze()\n",
    "        loss = loss_fun(prediction, price)\n",
    "        epoch_loss += loss.item()\n",
    "        loss.backward()\n",
    "        optimizer.step()\n",
    "    print(f'Epoch {epoch + 1}/{epochs}, Loss: {epoch_loss:.4f}')"
   ],
   "metadata": {
    "collapsed": false,
    "jupyter": {
     "is_executing": true
    },
    "ExecuteTime": {
     "start_time": "2024-05-24T04:47:10.226523Z"
    }
   },
   "id": "9f32c81bb87e6399",
   "outputs": [
    {
     "name": "stdout",
     "output_type": "stream",
     "text": [
      "Epoch 1/20000, Loss: 10590.7737\n",
      "Epoch 2/20000, Loss: 2130.1077\n",
      "Epoch 3/20000, Loss: 91.6277\n",
      "Epoch 4/20000, Loss: 81.1357\n",
      "Epoch 5/20000, Loss: 77.4949\n",
      "Epoch 6/20000, Loss: 68.9460\n",
      "Epoch 7/20000, Loss: 66.1729\n",
      "Epoch 8/20000, Loss: 69.2328\n",
      "Epoch 9/20000, Loss: 62.2966\n",
      "Epoch 10/20000, Loss: 62.9174\n",
      "Epoch 11/20000, Loss: 59.0725\n",
      "Epoch 12/20000, Loss: 64.3834\n",
      "Epoch 13/20000, Loss: 61.8184\n",
      "Epoch 14/20000, Loss: 60.0395\n",
      "Epoch 15/20000, Loss: 61.7244\n",
      "Epoch 16/20000, Loss: 57.8152\n",
      "Epoch 17/20000, Loss: 59.4751\n",
      "Epoch 18/20000, Loss: 59.1442\n",
      "Epoch 19/20000, Loss: 58.5111\n",
      "Epoch 20/20000, Loss: 59.4145\n",
      "Epoch 21/20000, Loss: 60.1558\n",
      "Epoch 22/20000, Loss: 57.0298\n",
      "Epoch 23/20000, Loss: 52.3923\n",
      "Epoch 24/20000, Loss: 53.9708\n",
      "Epoch 25/20000, Loss: 57.6833\n",
      "Epoch 26/20000, Loss: 55.6118\n",
      "Epoch 27/20000, Loss: 53.7456\n",
      "Epoch 28/20000, Loss: 56.7840\n",
      "Epoch 29/20000, Loss: 56.4510\n",
      "Epoch 30/20000, Loss: 49.7147\n",
      "Epoch 31/20000, Loss: 56.0771\n",
      "Epoch 32/20000, Loss: 52.0264\n",
      "Epoch 33/20000, Loss: 51.9668\n",
      "Epoch 34/20000, Loss: 52.8023\n",
      "Epoch 35/20000, Loss: 50.7204\n"
     ]
    }
   ],
   "execution_count": null
  },
  {
   "cell_type": "code",
   "source": [
    "print(model)"
   ],
   "metadata": {
    "collapsed": false,
    "jupyter": {
     "is_executing": true
    }
   },
   "id": "fcb6fc80ac3a1481",
   "outputs": [],
   "execution_count": null
  },
  {
   "metadata": {
    "jupyter": {
     "is_executing": true
    }
   },
   "cell_type": "code",
   "source": "print(train_dataset[0][0])",
   "id": "d7c9c60bc77604c5",
   "outputs": [],
   "execution_count": null
  },
  {
   "metadata": {
    "jupyter": {
     "is_executing": true
    }
   },
   "cell_type": "code",
   "source": [
    "model.eval()\n",
    "print(np.exp(val_dataset[4][1]).item())\n",
    "print(np.exp(model(val_dataset[4][0]).item()))"
   ],
   "id": "1daa5487797479fd",
   "outputs": [],
   "execution_count": null
  },
  {
   "metadata": {
    "jupyter": {
     "is_executing": true
    }
   },
   "cell_type": "code",
   "source": "",
   "id": "864be65f68a4927",
   "outputs": [],
   "execution_count": null
  }
 ],
 "metadata": {
  "kernelspec": {
   "display_name": "Python 3",
   "language": "python",
   "name": "python3"
  },
  "language_info": {
   "codemirror_mode": {
    "name": "ipython",
    "version": 2
   },
   "file_extension": ".py",
   "mimetype": "text/x-python",
   "name": "python",
   "nbconvert_exporter": "python",
   "pygments_lexer": "ipython2",
   "version": "2.7.6"
  }
 },
 "nbformat": 4,
 "nbformat_minor": 5
}
