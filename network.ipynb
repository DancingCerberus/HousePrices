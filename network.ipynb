{
 "cells": [
  {
   "cell_type": "code",
   "execution_count": 1,
   "id": "initial_id",
   "metadata": {
    "collapsed": true,
    "ExecuteTime": {
     "end_time": "2024-03-25T18:15:45.416315Z",
     "start_time": "2024-03-25T18:15:42.007842Z"
    }
   },
   "outputs": [],
   "source": [
    "import torch\n",
    "import torch.nn as nn\n",
    "import torch.nn.functional as F\n",
    "import torchvision\n",
    "from tqdm import tqdm\n",
    "import numpy as np\n",
    "import pandas as pd\n",
    "import matplotlib.pyplot as plt\n",
    "import cv2\n",
    "import os"
   ]
  },
  {
   "metadata": {},
   "cell_type": "code",
   "outputs": [],
   "execution_count": null,
   "source": [
    "class HouseDataSet(torch.utils.data.Dataset):\n",
    "    def __init__(self, data):\n",
    "        self.data = pd.read_csv(data)\n",
    "        \n",
    "    def __len__(self):\n",
    "        return len(self.data)\n",
    "    \n",
    "    def __getitem__(self, idx):\n",
    "        return self.data.iloc[idx, :-1], self.data.iloc[idx, -1].item()"
   ],
   "id": "747d5e7a5120bd7"
  },
  {
   "cell_type": "code",
   "outputs": [],
   "source": [
    "full_dataset = HouseDataSet(\"data\")\n",
    "\n",
    "train_dataset, val_dataset = torch.utils.data.random_split(full_dataset, [0.95, 0.05])"
   ],
   "metadata": {
    "collapsed": false,
    "ExecuteTime": {
     "end_time": "2024-03-25T18:15:45.552371Z",
     "start_time": "2024-03-25T18:15:45.425400Z"
    }
   },
   "id": "97c4dab8feb1da34",
   "execution_count": 3
  },
  {
   "cell_type": "code",
   "outputs": [],
   "source": [
    "train_dataloader = torch.utils.data.DataLoader(train_dataset, shuffle=True)\n",
    "val_dataset = torch.utils.data.DataLoader(val_dataset)"
   ],
   "metadata": {
    "collapsed": false,
    "ExecuteTime": {
     "end_time": "2024-03-25T18:15:45.681216Z",
     "start_time": "2024-03-25T18:15:45.673443Z"
    }
   },
   "id": "de3bbe74490549c6",
   "execution_count": 5
  },
  {
   "cell_type": "code",
   "outputs": [],
   "source": [
    "class Network(nn.Module):\n",
    "    def __init__(self):\n",
    "        super().__init__()\n",
    "        self.linear1 = nn.Linear(287, 100)\n",
    "        self.linear2 = nn.Linear(100, 100)\n",
    "        self.linear3 = nn.Linear(100, 1)\n",
    "        self.activation = nn.ReLU()\n",
    "        \n",
    "    def forward(self, x):\n",
    "        x = self.activation(self.linear1(x))\n",
    "        x = self.activation(self.linear2(x))\n",
    "        x = self.activation(self.linear3(x))\n",
    "        return x\n",
    "    "
   ],
   "metadata": {
    "collapsed": false,
    "ExecuteTime": {
     "end_time": "2024-03-25T18:15:45.717572Z",
     "start_time": "2024-03-25T18:15:45.712879Z"
    }
   },
   "id": "a1bd03b8ca7b2ae9",
   "execution_count": 7
  },
  {
   "cell_type": "code",
   "outputs": [],
   "source": "model = Network()",
   "metadata": {
    "collapsed": false,
    "ExecuteTime": {
     "end_time": "2024-03-25T18:15:45.726456Z",
     "start_time": "2024-03-25T18:15:45.719894Z"
    }
   },
   "id": "45b010961e91fce9",
   "execution_count": 8
  },
  {
   "cell_type": "code",
   "outputs": [],
   "source": [
    "loss_fn = nn.CrossEntropyLoss()"
   ],
   "metadata": {
    "collapsed": false,
    "ExecuteTime": {
     "end_time": "2024-03-25T18:15:45.731801Z",
     "start_time": "2024-03-25T18:15:45.727793Z"
    }
   },
   "id": "a5ea0f8ac8fd601c",
   "execution_count": 9
  },
  {
   "cell_type": "code",
   "outputs": [],
   "source": [
    "optimizer = torch.optim.SGD(model.parameters(), lr = 0.001, momentum=0.9)"
   ],
   "metadata": {
    "collapsed": false,
    "ExecuteTime": {
     "end_time": "2024-03-25T18:15:45.739542Z",
     "start_time": "2024-03-25T18:15:45.735150Z"
    }
   },
   "id": "568bf003c9d04799",
   "execution_count": 10
  },
  {
   "cell_type": "code",
   "outputs": [
    {
     "name": "stderr",
     "output_type": "stream",
     "text": [
      "loss: 1.40576: 100%|██████████| 3750/3750 [01:38<00:00, 37.97it/s]\n"
     ]
    },
    {
     "name": "stdout",
     "output_type": "stream",
     "text": [
      "1.562981344850858\n"
     ]
    },
    {
     "name": "stderr",
     "output_type": "stream",
     "text": [
      "loss: 0.73487: 100%|██████████| 3750/3750 [01:51<00:00, 33.77it/s]\n"
     ]
    },
    {
     "name": "stdout",
     "output_type": "stream",
     "text": [
      "1.1037349614898364\n"
     ]
    },
    {
     "name": "stderr",
     "output_type": "stream",
     "text": [
      "loss: 0.21521: 100%|██████████| 3750/3750 [01:14<00:00, 50.40it/s] \n"
     ]
    },
    {
     "name": "stdout",
     "output_type": "stream",
     "text": [
      "0.7472377012009422\n"
     ]
    },
    {
     "name": "stderr",
     "output_type": "stream",
     "text": [
      "loss: 1.10486: 100%|██████████| 3750/3750 [01:25<00:00, 43.96it/s] \n"
     ]
    },
    {
     "name": "stdout",
     "output_type": "stream",
     "text": [
      "0.6867399440020323\n"
     ]
    },
    {
     "name": "stderr",
     "output_type": "stream",
     "text": [
      "loss: 0.77737: 100%|██████████| 3750/3750 [01:28<00:00, 42.60it/s]"
     ]
    },
    {
     "name": "stdout",
     "output_type": "stream",
     "text": [
      "0.653815554845333\n"
     ]
    },
    {
     "name": "stderr",
     "output_type": "stream",
     "text": [
      "\n"
     ]
    }
   ],
   "source": [
    "epochs = 5\n",
    "\n",
    "for epoch in range(epochs):\n",
    "    loss_val = 0\n",
    "    for house, price in (pbar := tqdm(train_dataloader)):\n",
    "        optimizer.zero_grad()\n",
    "        pred = model(house)\n",
    "        loss = loss_fn(pred, price)\n",
    "        loss.backward()\n",
    "        loss_val += loss.item()\n",
    "        \n",
    "        optimizer.step()\n",
    "        \n",
    "        pbar.set_description(f\"loss: {loss.item():.5f}\")"
   ],
   "metadata": {
    "collapsed": false,
    "ExecuteTime": {
     "end_time": "2024-03-25T18:23:23.324556Z",
     "start_time": "2024-03-25T18:15:45.742143Z"
    }
   },
   "id": "9f32c81bb87e6399",
   "execution_count": 11
  },
  {
   "cell_type": "code",
   "outputs": [
    {
     "name": "stdout",
     "output_type": "stream",
     "text": [
      "NeuralNumbers(\n",
      "  (flat): Flatten(start_dim=1, end_dim=-1)\n",
      "  (linear1): Linear(in_features=784, out_features=100, bias=True)\n",
      "  (linear2): Linear(in_features=100, out_features=100, bias=True)\n",
      "  (linear3): Linear(in_features=100, out_features=10, bias=True)\n",
      "  (activation): ReLU()\n",
      ")\n"
     ]
    }
   ],
   "source": [
    "print(model)"
   ],
   "metadata": {
    "collapsed": false,
    "ExecuteTime": {
     "end_time": "2024-03-25T18:23:23.331401Z",
     "start_time": "2024-03-25T18:23:23.325948Z"
    }
   },
   "id": "fcb6fc80ac3a1481",
   "execution_count": 12
  }
 ],
 "metadata": {
  "kernelspec": {
   "display_name": "Python 3",
   "language": "python",
   "name": "python3"
  },
  "language_info": {
   "codemirror_mode": {
    "name": "ipython",
    "version": 2
   },
   "file_extension": ".py",
   "mimetype": "text/x-python",
   "name": "python",
   "nbconvert_exporter": "python",
   "pygments_lexer": "ipython2",
   "version": "2.7.6"
  }
 },
 "nbformat": 4,
 "nbformat_minor": 5
}
