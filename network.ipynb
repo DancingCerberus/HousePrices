{
 "cells": [
  {
   "cell_type": "code",
   "id": "initial_id",
   "metadata": {
    "collapsed": true,
    "ExecuteTime": {
     "end_time": "2024-05-23T19:19:00.725171Z",
     "start_time": "2024-05-23T19:19:00.721391Z"
    }
   },
   "source": [
    "import torch\n",
    "import torch.nn as nn\n",
    "import torch.nn.functional as F\n",
    "import torchvision\n",
    "from tqdm import tqdm\n",
    "import numpy as np\n",
    "import pandas as pd\n",
    "from sklearn import preprocessing\n",
    "import matplotlib.pyplot as plt\n",
    "import cv2\n",
    "import os"
   ],
   "outputs": [],
   "execution_count": 321
  },
  {
   "metadata": {
    "ExecuteTime": {
     "end_time": "2024-05-23T19:19:01.079812Z",
     "start_time": "2024-05-23T19:19:01.070178Z"
    }
   },
   "cell_type": "code",
   "source": [
    "def data_preparation(train_data_path: str, test_data_path: str) -> tuple[pd.DataFrame, pd.DataFrame]:\n",
    "    raw_train_data_df = pd.read_csv(train_data_path, index_col=0)\n",
    "    train_SellPrice = raw_train_data_df.pop(\"SalePrice\")\n",
    "    numeric_features = raw_train_data_df.select_dtypes(include=\"number\").columns.tolist()\n",
    "    train_data_df = pd.get_dummies(raw_train_data_df, dtype=\"float32\")\n",
    "    train_data_df[\"SalePrice\"] = train_SellPrice.apply(np.log)\n",
    "    \n",
    "    raw_test_data_df = pd.read_csv(test_data_path, index_col=0)\n",
    "    test_data_df = pd.get_dummies(raw_test_data_df, dtype=\"float32\")\n",
    "    test_data_df = test_data_df.reindex(columns=train_data_df.columns, fill_value=0)\n",
    "    \n",
    "    standard_scaler = preprocessing.StandardScaler()\n",
    "    train_data_df[numeric_features] = standard_scaler.fit_transform(train_data_df[numeric_features])\n",
    "    test_data_df[numeric_features] = standard_scaler.transform(test_data_df[numeric_features])\n",
    "    return train_data_df, test_data_df\n",
    "    "
   ],
   "id": "875585154524813b",
   "outputs": [],
   "execution_count": 322
  },
  {
   "metadata": {
    "ExecuteTime": {
     "end_time": "2024-05-23T19:19:01.573426Z",
     "start_time": "2024-05-23T19:19:01.565544Z"
    }
   },
   "cell_type": "code",
   "source": [
    "class HouseDataset(torch.utils.data.Dataset):\n",
    "    def __init__(self, df: pd.DataFrame):\n",
    "        prices = df.pop(\"SalePrice\").values\n",
    "        features = df.values\n",
    "        \n",
    "        self.features = torch.tensor(features, dtype=torch.float32)\n",
    "        self.prices = torch.tensor(prices, dtype=torch.float32)\n",
    "        \n",
    "    def __len__(self):\n",
    "        return len(self.features)\n",
    "    \n",
    "    def __getitem__(self, idx):\n",
    "        return self.features[idx], self.prices[idx]"
   ],
   "id": "747d5e7a5120bd7",
   "outputs": [],
   "execution_count": 323
  },
  {
   "metadata": {
    "ExecuteTime": {
     "end_time": "2024-05-23T19:19:02.061481Z",
     "start_time": "2024-05-23T19:19:01.963137Z"
    }
   },
   "cell_type": "code",
   "source": [
    "train_path = \"./data/train.csv\"\n",
    "test_path = \"./data/test.csv\"\n",
    "\n",
    "full_train_dataset_df, test_dataset_df = data_preparation(train_path, test_path)\n",
    "full_train_dataset = HouseDataset(full_train_dataset_df)\n",
    "\n",
    "print(type(full_train_dataset))\n",
    "print(type(full_train_dataset[0]))\n",
    "print(type(full_train_dataset[0][0]))\n",
    "print(type(full_train_dataset[0][1]))\n",
    "print(full_train_dataset[0][1])\n",
    "print(full_train_dataset[0][0].shape)\n",
    "print(full_train_dataset[0][1].shape)\n",
    "print(full_train_dataset[0][0])"
   ],
   "id": "6153974ef503b88f",
   "outputs": [
    {
     "name": "stdout",
     "output_type": "stream",
     "text": [
      "<class '__main__.HouseDataset'>\n",
      "<class 'tuple'>\n",
      "<class 'torch.Tensor'>\n",
      "<class 'torch.Tensor'>\n",
      "tensor(12.2477)\n",
      "torch.Size([287])\n",
      "torch.Size([])\n",
      "tensor([ 0.0734, -0.2080, -0.2071,  0.6515, -0.5172,  1.0510,  0.8787,  0.5100,\n",
      "         0.5754, -0.2887, -0.9446, -0.4593, -0.7934,  1.1619, -0.1202,  0.3703,\n",
      "         1.1078, -0.2411,  0.7897,  1.2276,  0.1638, -0.2115,  0.9122, -0.9512,\n",
      "         0.9924,  0.3117,  0.3510, -0.7522,  0.2165, -0.3593, -0.1163, -0.2702,\n",
      "        -0.0687, -0.0877, -1.5991,  0.1388,  0.0000,  0.0000,  0.0000,  1.0000,\n",
      "         0.0000,  0.0000,  1.0000,  0.0000,  0.0000,  0.0000,  0.0000,  0.0000,\n",
      "         1.0000,  0.0000,  0.0000,  0.0000,  1.0000,  1.0000,  0.0000,  0.0000,\n",
      "         0.0000,  0.0000,  0.0000,  1.0000,  1.0000,  0.0000,  0.0000,  0.0000,\n",
      "         0.0000,  0.0000,  0.0000,  0.0000,  1.0000,  0.0000,  0.0000,  0.0000,\n",
      "         0.0000,  0.0000,  0.0000,  0.0000,  0.0000,  0.0000,  0.0000,  0.0000,\n",
      "         0.0000,  0.0000,  0.0000,  0.0000,  0.0000,  0.0000,  0.0000,  0.0000,\n",
      "         0.0000,  0.0000,  1.0000,  0.0000,  0.0000,  0.0000,  0.0000,  0.0000,\n",
      "         0.0000,  0.0000,  0.0000,  1.0000,  0.0000,  0.0000,  0.0000,  0.0000,\n",
      "         0.0000,  1.0000,  0.0000,  0.0000,  0.0000,  0.0000,  0.0000,  0.0000,\n",
      "         0.0000,  0.0000,  0.0000,  1.0000,  0.0000,  0.0000,  0.0000,  1.0000,\n",
      "         0.0000,  0.0000,  0.0000,  0.0000,  0.0000,  1.0000,  0.0000,  0.0000,\n",
      "         0.0000,  0.0000,  0.0000,  0.0000,  0.0000,  0.0000,  0.0000,  0.0000,\n",
      "         0.0000,  0.0000,  0.0000,  0.0000,  0.0000,  0.0000,  0.0000,  0.0000,\n",
      "         1.0000,  0.0000,  0.0000,  0.0000,  0.0000,  0.0000,  0.0000,  0.0000,\n",
      "         0.0000,  0.0000,  0.0000,  0.0000,  0.0000,  0.0000,  0.0000,  0.0000,\n",
      "         1.0000,  0.0000,  0.0000,  0.0000,  1.0000,  0.0000,  0.0000,  0.0000,\n",
      "         1.0000,  0.0000,  0.0000,  0.0000,  0.0000,  0.0000,  1.0000,  0.0000,\n",
      "         0.0000,  1.0000,  0.0000,  0.0000,  0.0000,  0.0000,  0.0000,  1.0000,\n",
      "         0.0000,  0.0000,  0.0000,  0.0000,  1.0000,  0.0000,  0.0000,  0.0000,\n",
      "         1.0000,  0.0000,  0.0000,  1.0000,  0.0000,  0.0000,  0.0000,  0.0000,\n",
      "         0.0000,  0.0000,  0.0000,  0.0000,  1.0000,  0.0000,  1.0000,  0.0000,\n",
      "         0.0000,  0.0000,  0.0000,  1.0000,  0.0000,  0.0000,  0.0000,  0.0000,\n",
      "         0.0000,  1.0000,  0.0000,  0.0000,  0.0000,  0.0000,  1.0000,  0.0000,\n",
      "         0.0000,  1.0000,  0.0000,  0.0000,  0.0000,  0.0000,  0.0000,  0.0000,\n",
      "         0.0000,  1.0000,  0.0000,  0.0000,  0.0000,  0.0000,  0.0000,  0.0000,\n",
      "         1.0000,  0.0000,  0.0000,  0.0000,  0.0000,  0.0000,  1.0000,  0.0000,\n",
      "         0.0000,  0.0000,  0.0000,  0.0000,  1.0000,  0.0000,  0.0000,  0.0000,\n",
      "         0.0000,  1.0000,  0.0000,  0.0000,  1.0000,  0.0000,  0.0000,  0.0000,\n",
      "         0.0000,  0.0000,  0.0000,  0.0000,  0.0000,  0.0000,  0.0000,  0.0000,\n",
      "         0.0000,  0.0000,  0.0000,  0.0000,  0.0000,  0.0000,  0.0000,  0.0000,\n",
      "         1.0000,  0.0000,  0.0000,  0.0000,  0.0000,  1.0000,  0.0000])\n"
     ]
    }
   ],
   "execution_count": 324
  },
  {
   "cell_type": "code",
   "source": [
    "train_path = \"./data/train.csv\"\n",
    "test_path = \"./data/test.csv\"\n",
    "\n",
    "full_train_dataset_df, test_dataset_df = data_preparation(train_path, test_path)\n",
    "\n",
    "full_train_dataset = HouseDataset(full_train_dataset_df)\n",
    "\n",
    "train_dataset, val_dataset = torch.utils.data.random_split(full_train_dataset, [0.95, 0.05])\n",
    "train_dataloader = torch.utils.data.DataLoader(train_dataset, batch_size=16 ,shuffle=True)\n",
    "val_dataloader = torch.utils.data.DataLoader(val_dataset, batch_size=16)\n",
    "\n",
    "test_dataset = HouseDataset(test_dataset_df)\n",
    "test_dataloader = torch.utils.data.DataLoader(test_dataset, batch_size=16)"
   ],
   "metadata": {
    "collapsed": false,
    "ExecuteTime": {
     "end_time": "2024-05-23T19:19:02.774588Z",
     "start_time": "2024-05-23T19:19:02.657181Z"
    }
   },
   "id": "97c4dab8feb1da34",
   "outputs": [],
   "execution_count": 325
  },
  {
   "metadata": {
    "ExecuteTime": {
     "end_time": "2024-05-23T19:19:03.244432Z",
     "start_time": "2024-05-23T19:19:03.237935Z"
    }
   },
   "cell_type": "code",
   "source": [
    "print(len(full_train_dataset))\n",
    "print(len(train_dataset))\n",
    "print(len(val_dataset))\n",
    "a, b = full_train_dataset[0]\n",
    "print(a)\n",
    "print(b)\n"
   ],
   "id": "6d77d6320cf87dc9",
   "outputs": [
    {
     "name": "stdout",
     "output_type": "stream",
     "text": [
      "1460\n",
      "1387\n",
      "73\n",
      "tensor([ 0.0734, -0.2080, -0.2071,  0.6515, -0.5172,  1.0510,  0.8787,  0.5100,\n",
      "         0.5754, -0.2887, -0.9446, -0.4593, -0.7934,  1.1619, -0.1202,  0.3703,\n",
      "         1.1078, -0.2411,  0.7897,  1.2276,  0.1638, -0.2115,  0.9122, -0.9512,\n",
      "         0.9924,  0.3117,  0.3510, -0.7522,  0.2165, -0.3593, -0.1163, -0.2702,\n",
      "        -0.0687, -0.0877, -1.5991,  0.1388,  0.0000,  0.0000,  0.0000,  1.0000,\n",
      "         0.0000,  0.0000,  1.0000,  0.0000,  0.0000,  0.0000,  0.0000,  0.0000,\n",
      "         1.0000,  0.0000,  0.0000,  0.0000,  1.0000,  1.0000,  0.0000,  0.0000,\n",
      "         0.0000,  0.0000,  0.0000,  1.0000,  1.0000,  0.0000,  0.0000,  0.0000,\n",
      "         0.0000,  0.0000,  0.0000,  0.0000,  1.0000,  0.0000,  0.0000,  0.0000,\n",
      "         0.0000,  0.0000,  0.0000,  0.0000,  0.0000,  0.0000,  0.0000,  0.0000,\n",
      "         0.0000,  0.0000,  0.0000,  0.0000,  0.0000,  0.0000,  0.0000,  0.0000,\n",
      "         0.0000,  0.0000,  1.0000,  0.0000,  0.0000,  0.0000,  0.0000,  0.0000,\n",
      "         0.0000,  0.0000,  0.0000,  1.0000,  0.0000,  0.0000,  0.0000,  0.0000,\n",
      "         0.0000,  1.0000,  0.0000,  0.0000,  0.0000,  0.0000,  0.0000,  0.0000,\n",
      "         0.0000,  0.0000,  0.0000,  1.0000,  0.0000,  0.0000,  0.0000,  1.0000,\n",
      "         0.0000,  0.0000,  0.0000,  0.0000,  0.0000,  1.0000,  0.0000,  0.0000,\n",
      "         0.0000,  0.0000,  0.0000,  0.0000,  0.0000,  0.0000,  0.0000,  0.0000,\n",
      "         0.0000,  0.0000,  0.0000,  0.0000,  0.0000,  0.0000,  0.0000,  0.0000,\n",
      "         1.0000,  0.0000,  0.0000,  0.0000,  0.0000,  0.0000,  0.0000,  0.0000,\n",
      "         0.0000,  0.0000,  0.0000,  0.0000,  0.0000,  0.0000,  0.0000,  0.0000,\n",
      "         1.0000,  0.0000,  0.0000,  0.0000,  1.0000,  0.0000,  0.0000,  0.0000,\n",
      "         1.0000,  0.0000,  0.0000,  0.0000,  0.0000,  0.0000,  1.0000,  0.0000,\n",
      "         0.0000,  1.0000,  0.0000,  0.0000,  0.0000,  0.0000,  0.0000,  1.0000,\n",
      "         0.0000,  0.0000,  0.0000,  0.0000,  1.0000,  0.0000,  0.0000,  0.0000,\n",
      "         1.0000,  0.0000,  0.0000,  1.0000,  0.0000,  0.0000,  0.0000,  0.0000,\n",
      "         0.0000,  0.0000,  0.0000,  0.0000,  1.0000,  0.0000,  1.0000,  0.0000,\n",
      "         0.0000,  0.0000,  0.0000,  1.0000,  0.0000,  0.0000,  0.0000,  0.0000,\n",
      "         0.0000,  1.0000,  0.0000,  0.0000,  0.0000,  0.0000,  1.0000,  0.0000,\n",
      "         0.0000,  1.0000,  0.0000,  0.0000,  0.0000,  0.0000,  0.0000,  0.0000,\n",
      "         0.0000,  1.0000,  0.0000,  0.0000,  0.0000,  0.0000,  0.0000,  0.0000,\n",
      "         1.0000,  0.0000,  0.0000,  0.0000,  0.0000,  0.0000,  1.0000,  0.0000,\n",
      "         0.0000,  0.0000,  0.0000,  0.0000,  1.0000,  0.0000,  0.0000,  0.0000,\n",
      "         0.0000,  1.0000,  0.0000,  0.0000,  1.0000,  0.0000,  0.0000,  0.0000,\n",
      "         0.0000,  0.0000,  0.0000,  0.0000,  0.0000,  0.0000,  0.0000,  0.0000,\n",
      "         0.0000,  0.0000,  0.0000,  0.0000,  0.0000,  0.0000,  0.0000,  0.0000,\n",
      "         1.0000,  0.0000,  0.0000,  0.0000,  0.0000,  1.0000,  0.0000])\n",
      "tensor(12.2477)\n"
     ]
    }
   ],
   "execution_count": 326
  },
  {
   "cell_type": "code",
   "source": [
    "class HouseNetwork(nn.Module):\n",
    "    def __init__(self):\n",
    "        super().__init__()\n",
    "        self.fc1 = nn.Linear(287, 100)\n",
    "        self.dropout1 = nn.Dropout(0.2)\n",
    "        self.fc2 = nn.Linear(100, 100)\n",
    "        self.dropout2 = nn.Dropout(0.2)\n",
    "        self.fc3 = nn.Linear(100, 1)\n",
    "        self.activation = nn.ReLU()\n",
    "        \n",
    "    def forward(self, x):\n",
    "        x = self.dropout1(self.activation(self.fc1(x)))\n",
    "        x = self.dropout2(self.activation(self.fc2(x)))\n",
    "        x = self.fc3(x)\n",
    "        return x\n",
    "    "
   ],
   "metadata": {
    "collapsed": false,
    "ExecuteTime": {
     "end_time": "2024-05-23T19:19:03.661085Z",
     "start_time": "2024-05-23T19:19:03.654714Z"
    }
   },
   "id": "a1bd03b8ca7b2ae9",
   "outputs": [],
   "execution_count": 327
  },
  {
   "cell_type": "code",
   "source": [
    "model = HouseNetwork()\n",
    "loss_fun = nn.MSELoss()\n",
    "optimizer = torch.optim.SGD(model.parameters(), lr = 0.0001, momentum=0.9)"
   ],
   "metadata": {
    "collapsed": false,
    "ExecuteTime": {
     "end_time": "2024-05-23T19:19:04.271836Z",
     "start_time": "2024-05-23T19:19:04.265816Z"
    }
   },
   "id": "45b010961e91fce9",
   "outputs": [],
   "execution_count": 328
  },
  {
   "cell_type": "code",
   "source": [
    "epochs = 5\n",
    "\n",
    "for epoch in range(epochs):\n",
    "    epoch_loss = 0.0\n",
    "    for house, price in train_dataloader:\n",
    "        optimizer.zero_grad()\n",
    "        prediction = model(house)\n",
    "        prediction = prediction.squeeze()\n",
    "        loss = loss_fun(prediction, price)\n",
    "        epoch_loss+=loss.item()\n",
    "        loss.backward()\n",
    "        optimizer.step()\n",
    "    print(epoch_loss)    \n",
    "    \n",
    "    "
   ],
   "metadata": {
    "collapsed": false,
    "ExecuteTime": {
     "end_time": "2024-05-23T19:20:40.841007Z",
     "start_time": "2024-05-23T19:20:39.829773Z"
    }
   },
   "id": "9f32c81bb87e6399",
   "outputs": [
    {
     "name": "stdout",
     "output_type": "stream",
     "text": [
      "nan\n",
      "nan\n",
      "nan\n",
      "nan\n",
      "nan\n"
     ]
    }
   ],
   "execution_count": 330
  },
  {
   "cell_type": "code",
   "source": [
    "print(model)"
   ],
   "metadata": {
    "collapsed": false,
    "ExecuteTime": {
     "end_time": "2024-05-23T18:30:49.618508Z",
     "start_time": "2024-05-23T18:30:49.610713Z"
    }
   },
   "id": "fcb6fc80ac3a1481",
   "outputs": [
    {
     "name": "stdout",
     "output_type": "stream",
     "text": [
      "HouseNetwork(\n",
      "  (fc1): Linear(in_features=287, out_features=100, bias=True)\n",
      "  (dropout1): Dropout(p=0.2, inplace=False)\n",
      "  (fc2): Linear(in_features=100, out_features=100, bias=True)\n",
      "  (dropout2): Dropout(p=0.2, inplace=False)\n",
      "  (fc3): Linear(in_features=100, out_features=1, bias=True)\n",
      "  (activation): ReLU()\n",
      ")\n"
     ]
    }
   ],
   "execution_count": 172
  },
  {
   "metadata": {},
   "cell_type": "code",
   "outputs": [],
   "execution_count": null,
   "source": "",
   "id": "1daa5487797479fd"
  }
 ],
 "metadata": {
  "kernelspec": {
   "display_name": "Python 3",
   "language": "python",
   "name": "python3"
  },
  "language_info": {
   "codemirror_mode": {
    "name": "ipython",
    "version": 2
   },
   "file_extension": ".py",
   "mimetype": "text/x-python",
   "name": "python",
   "nbconvert_exporter": "python",
   "pygments_lexer": "ipython2",
   "version": "2.7.6"
  }
 },
 "nbformat": 4,
 "nbformat_minor": 5
}
