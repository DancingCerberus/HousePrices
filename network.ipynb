{
 "cells": [
  {
   "cell_type": "code",
   "id": "initial_id",
   "metadata": {
    "collapsed": true,
    "ExecuteTime": {
     "end_time": "2024-05-23T16:07:34.323885Z",
     "start_time": "2024-05-23T16:07:34.318766Z"
    }
   },
   "source": [
    "import torch\n",
    "import torch.nn as nn\n",
    "import torch.nn.functional as F\n",
    "import torchvision\n",
    "from tqdm import tqdm\n",
    "import numpy as np\n",
    "import pandas as pd\n",
    "from sklearn import preprocessing\n",
    "import matplotlib.pyplot as plt\n",
    "import cv2\n",
    "import os"
   ],
   "outputs": [],
   "execution_count": 56
  },
  {
   "metadata": {
    "ExecuteTime": {
     "end_time": "2024-05-23T16:07:34.765821Z",
     "start_time": "2024-05-23T16:07:34.760850Z"
    }
   },
   "cell_type": "code",
   "source": [
    "class HouseDataset(torch.utils.data.Dataset):\n",
    "    def __init__(self, data):\n",
    "        self.data = pd.read_csv(data)\n",
    "        \n",
    "    def __len__(self):\n",
    "        return len(self.data)\n",
    "    \n",
    "    def __getitem__(self, idx):\n",
    "        return self.data.iloc[idx, :-1], self.data.iloc[idx, -1].item()"
   ],
   "id": "747d5e7a5120bd7",
   "outputs": [],
   "execution_count": 57
  },
  {
   "metadata": {
    "ExecuteTime": {
     "end_time": "2024-05-23T16:45:52.596662Z",
     "start_time": "2024-05-23T16:45:52.583747Z"
    }
   },
   "cell_type": "code",
   "source": [
    "def data_preparation(train_data_path: str, test_data_path: str) -> tuple[pd.DataFrame, pd.DataFrame]:\n",
    "    raw_train_data_df = pd.read_csv(train_data_path, index_col=0)\n",
    "    train_SellPrice = raw_train_data_df.pop(\"SalePrice\")\n",
    "    numeric_features = raw_train_data_df.select_dtypes(include=\"number\").columns.tolist()\n",
    "    train_data_df = pd.get_dummies(raw_train_data_df)\n",
    "    train_data_df[\"SalePrice\"] = train_SellPrice.apply(np.log)\n",
    "    \n",
    "    raw_test_data_df = pd.read_csv(test_data_path, index_col=0)\n",
    "    test_data_df = pd.get_dummies(raw_test_data_df)\n",
    "    test_data_df = test_data_df.reindex(columns=train_data_df.columns, fill_value=0)\n",
    "    \n",
    "    standard_scaler = preprocessing.StandardScaler()\n",
    "    train_data_df[numeric_features] = standard_scaler.fit_transform(train_data_df[numeric_features])\n",
    "    test_data_df[numeric_features] = standard_scaler.transform(test_data_df[numeric_features])\n",
    "    return train_data_df, test_data_df\n",
    "    "
   ],
   "id": "875585154524813b",
   "outputs": [],
   "execution_count": 63
  },
  {
   "metadata": {
    "ExecuteTime": {
     "end_time": "2024-05-23T16:46:12.736139Z",
     "start_time": "2024-05-23T16:46:12.583956Z"
    }
   },
   "cell_type": "code",
   "source": [
    "raw_train_data_df = pd.read_csv(\"data/train.csv\", index_col=0)\n",
    "train_SalePrice = raw_train_data_df[\"SalePrice\"]\n",
    "raw_train_data_df.drop(\"SalePrice\", axis=1, inplace=True)\n",
    "numeric_features = raw_train_data_df.select_dtypes(include=\"number\").columns.tolist()\n",
    "train_data_df = pd.get_dummies(raw_train_data_df)\n",
    "train_data_df[\"SalePrice\"] = train_SalePrice.apply(np.log)\n",
    "print(train_SalePrice)\n",
    "print(train_data_df)\n",
    "\n",
    "raw_test_data_df = pd.read_csv(\"data/test.csv\", index_col=0)\n",
    "test_data_df = pd.get_dummies(raw_test_data_df)\n",
    "print(len(test_data_df.columns))\n",
    "test_data_df = test_data_df.reindex(columns=train_data_df.columns, fill_value=0)\n",
    "print(len(test_data_df.columns))"
   ],
   "id": "7630eb12a720c5d5",
   "outputs": [
    {
     "name": "stdout",
     "output_type": "stream",
     "text": [
      "Id\n",
      "1       208500\n",
      "2       181500\n",
      "3       223500\n",
      "4       140000\n",
      "5       250000\n",
      "         ...  \n",
      "1456    175000\n",
      "1457    210000\n",
      "1458    266500\n",
      "1459    142125\n",
      "1460    147500\n",
      "Name: SalePrice, Length: 1460, dtype: int64\n",
      "      MSSubClass  LotFrontage  LotArea  OverallQual  OverallCond  YearBuilt  \\\n",
      "Id                                                                            \n",
      "1             60         65.0     8450            7            5       2003   \n",
      "2             20         80.0     9600            6            8       1976   \n",
      "3             60         68.0    11250            7            5       2001   \n",
      "4             70         60.0     9550            7            5       1915   \n",
      "5             60         84.0    14260            8            5       2000   \n",
      "...          ...          ...      ...          ...          ...        ...   \n",
      "1456          60         62.0     7917            6            5       1999   \n",
      "1457          20         85.0    13175            6            6       1978   \n",
      "1458          70         66.0     9042            7            9       1941   \n",
      "1459          20         68.0     9717            5            6       1950   \n",
      "1460          20         75.0     9937            5            6       1965   \n",
      "\n",
      "      YearRemodAdd  MasVnrArea  BsmtFinSF1  BsmtFinSF2  ...  SaleType_New  \\\n",
      "Id                                                      ...                 \n",
      "1             2003       196.0         706           0  ...         False   \n",
      "2             1976         0.0         978           0  ...         False   \n",
      "3             2002       162.0         486           0  ...         False   \n",
      "4             1970         0.0         216           0  ...         False   \n",
      "5             2000       350.0         655           0  ...         False   \n",
      "...            ...         ...         ...         ...  ...           ...   \n",
      "1456          2000         0.0           0           0  ...         False   \n",
      "1457          1988       119.0         790         163  ...         False   \n",
      "1458          2006         0.0         275           0  ...         False   \n",
      "1459          1996         0.0          49        1029  ...         False   \n",
      "1460          1965         0.0         830         290  ...         False   \n",
      "\n",
      "      SaleType_Oth  SaleType_WD  SaleCondition_Abnorml  SaleCondition_AdjLand  \\\n",
      "Id                                                                              \n",
      "1            False         True                  False                  False   \n",
      "2            False         True                  False                  False   \n",
      "3            False         True                  False                  False   \n",
      "4            False         True                   True                  False   \n",
      "5            False         True                  False                  False   \n",
      "...            ...          ...                    ...                    ...   \n",
      "1456         False         True                  False                  False   \n",
      "1457         False         True                  False                  False   \n",
      "1458         False         True                  False                  False   \n",
      "1459         False         True                  False                  False   \n",
      "1460         False         True                  False                  False   \n",
      "\n",
      "      SaleCondition_Alloca  SaleCondition_Family  SaleCondition_Normal  \\\n",
      "Id                                                                       \n",
      "1                    False                 False                  True   \n",
      "2                    False                 False                  True   \n",
      "3                    False                 False                  True   \n",
      "4                    False                 False                 False   \n",
      "5                    False                 False                  True   \n",
      "...                    ...                   ...                   ...   \n",
      "1456                 False                 False                  True   \n",
      "1457                 False                 False                  True   \n",
      "1458                 False                 False                  True   \n",
      "1459                 False                 False                  True   \n",
      "1460                 False                 False                  True   \n",
      "\n",
      "      SaleCondition_Partial  SalePrice  \n",
      "Id                                      \n",
      "1                     False  12.247694  \n",
      "2                     False  12.109011  \n",
      "3                     False  12.317167  \n",
      "4                     False  11.849398  \n",
      "5                     False  12.429216  \n",
      "...                     ...        ...  \n",
      "1456                  False  12.072541  \n",
      "1457                  False  12.254863  \n",
      "1458                  False  12.493130  \n",
      "1459                  False  11.864462  \n",
      "1460                  False  11.901583  \n",
      "\n",
      "[1460 rows x 288 columns]\n",
      "269\n",
      "288\n"
     ]
    }
   ],
   "execution_count": 64
  },
  {
   "metadata": {
    "ExecuteTime": {
     "end_time": "2024-05-23T16:07:37.740375Z",
     "start_time": "2024-05-23T16:07:37.716971Z"
    }
   },
   "cell_type": "code",
   "source": [
    "standard_scaler = preprocessing.StandardScaler()\n",
    "train_data_df[numeric_features] = standard_scaler.fit_transform(train_data_df[numeric_features])\n",
    "test_data_df[numeric_features] = standard_scaler.transform(test_data_df[numeric_features])"
   ],
   "id": "19e9996b701c5bf9",
   "outputs": [],
   "execution_count": 59
  },
  {
   "cell_type": "code",
   "source": [
    "full_train_dataset = HouseDataset(\"data/train.csv\")\n",
    "train_dataset, val_dataset = torch.utils.data.random_split(full_train_dataset, [0.95, 0.05])"
   ],
   "metadata": {
    "collapsed": false,
    "ExecuteTime": {
     "end_time": "2024-05-23T12:47:18.914246Z",
     "start_time": "2024-05-23T12:47:18.883339Z"
    }
   },
   "id": "97c4dab8feb1da34",
   "outputs": [],
   "execution_count": 16
  },
  {
   "metadata": {
    "ExecuteTime": {
     "end_time": "2024-05-23T12:47:41.032159Z",
     "start_time": "2024-05-23T12:47:41.027615Z"
    }
   },
   "cell_type": "code",
   "source": [
    "print(len(full_train_dataset))\n",
    "print(len(train_dataset))\n",
    "print(len(val_dataset))\n",
    "a, b = full_train_dataset[0]\n",
    "print(a)\n",
    "print(b)"
   ],
   "id": "6d77d6320cf87dc9",
   "outputs": [
    {
     "name": "stdout",
     "output_type": "stream",
     "text": [
      "1460\n",
      "1387\n",
      "73\n",
      "Id                    1\n",
      "MSSubClass           60\n",
      "MSZoning             RL\n",
      "LotFrontage        65.0\n",
      "LotArea            8450\n",
      "                  ...  \n",
      "MiscVal               0\n",
      "MoSold                2\n",
      "YrSold             2008\n",
      "SaleType             WD\n",
      "SaleCondition    Normal\n",
      "Name: 0, Length: 80, dtype: object\n",
      "208500\n"
     ]
    }
   ],
   "execution_count": 20
  },
  {
   "cell_type": "code",
   "outputs": [],
   "source": [
    "train_dataloader = torch.utils.data.DataLoader(train_dataset, batch_size=16 ,shuffle=True)\n",
    "val_dataset = torch.utils.data.DataLoader(val_dataset, batch_size=16)"
   ],
   "metadata": {
    "collapsed": false,
    "ExecuteTime": {
     "end_time": "2024-03-25T18:15:45.681216Z",
     "start_time": "2024-03-25T18:15:45.673443Z"
    }
   },
   "id": "de3bbe74490549c6",
   "execution_count": 5
  },
  {
   "cell_type": "code",
   "outputs": [],
   "source": [
    "class Network(nn.Module):\n",
    "    def __init__(self):\n",
    "        super().__init__()\n",
    "        self.linear1 = nn.Linear(287, 100)\n",
    "        self.linear2 = nn.Linear(100, 100)\n",
    "        self.linear3 = nn.Linear(100, 1)\n",
    "        self.activation = nn.ReLU()\n",
    "        \n",
    "    def forward(self, x):\n",
    "        x = self.activation(self.linear1(x))\n",
    "        x = self.activation(self.linear2(x))\n",
    "        x = self.activation(self.linear3(x))\n",
    "        return x\n",
    "    "
   ],
   "metadata": {
    "collapsed": false,
    "ExecuteTime": {
     "end_time": "2024-03-25T18:15:45.717572Z",
     "start_time": "2024-03-25T18:15:45.712879Z"
    }
   },
   "id": "a1bd03b8ca7b2ae9",
   "execution_count": 7
  },
  {
   "cell_type": "code",
   "outputs": [],
   "source": "model = Network()",
   "metadata": {
    "collapsed": false,
    "ExecuteTime": {
     "end_time": "2024-03-25T18:15:45.726456Z",
     "start_time": "2024-03-25T18:15:45.719894Z"
    }
   },
   "id": "45b010961e91fce9",
   "execution_count": 8
  },
  {
   "cell_type": "code",
   "outputs": [],
   "source": [
    "loss_fn = nn.CrossEntropyLoss()"
   ],
   "metadata": {
    "collapsed": false,
    "ExecuteTime": {
     "end_time": "2024-03-25T18:15:45.731801Z",
     "start_time": "2024-03-25T18:15:45.727793Z"
    }
   },
   "id": "a5ea0f8ac8fd601c",
   "execution_count": 9
  },
  {
   "cell_type": "code",
   "outputs": [],
   "source": [
    "optimizer = torch.optim.SGD(model.parameters(), lr = 0.001, momentum=0.9)"
   ],
   "metadata": {
    "collapsed": false,
    "ExecuteTime": {
     "end_time": "2024-03-25T18:15:45.739542Z",
     "start_time": "2024-03-25T18:15:45.735150Z"
    }
   },
   "id": "568bf003c9d04799",
   "execution_count": 10
  },
  {
   "cell_type": "code",
   "outputs": [
    {
     "name": "stderr",
     "output_type": "stream",
     "text": [
      "loss: 1.40576: 100%|██████████| 3750/3750 [01:38<00:00, 37.97it/s]\n"
     ]
    },
    {
     "name": "stdout",
     "output_type": "stream",
     "text": [
      "1.562981344850858\n"
     ]
    },
    {
     "name": "stderr",
     "output_type": "stream",
     "text": [
      "loss: 0.73487: 100%|██████████| 3750/3750 [01:51<00:00, 33.77it/s]\n"
     ]
    },
    {
     "name": "stdout",
     "output_type": "stream",
     "text": [
      "1.1037349614898364\n"
     ]
    },
    {
     "name": "stderr",
     "output_type": "stream",
     "text": [
      "loss: 0.21521: 100%|██████████| 3750/3750 [01:14<00:00, 50.40it/s] \n"
     ]
    },
    {
     "name": "stdout",
     "output_type": "stream",
     "text": [
      "0.7472377012009422\n"
     ]
    },
    {
     "name": "stderr",
     "output_type": "stream",
     "text": [
      "loss: 1.10486: 100%|██████████| 3750/3750 [01:25<00:00, 43.96it/s] \n"
     ]
    },
    {
     "name": "stdout",
     "output_type": "stream",
     "text": [
      "0.6867399440020323\n"
     ]
    },
    {
     "name": "stderr",
     "output_type": "stream",
     "text": [
      "loss: 0.77737: 100%|██████████| 3750/3750 [01:28<00:00, 42.60it/s]"
     ]
    },
    {
     "name": "stdout",
     "output_type": "stream",
     "text": [
      "0.653815554845333\n"
     ]
    },
    {
     "name": "stderr",
     "output_type": "stream",
     "text": [
      "\n"
     ]
    }
   ],
   "source": [
    "epochs = 5\n",
    "\n",
    "for epoch in range(epochs):\n",
    "    loss_val = 0\n",
    "    for house, price in (pbar := tqdm(train_dataloader)):\n",
    "        optimizer.zero_grad()\n",
    "        pred = model(house)\n",
    "        loss = loss_fn(pred, price)\n",
    "        loss.backward()\n",
    "        loss_val += loss.item()\n",
    "        \n",
    "        optimizer.step()\n",
    "        \n",
    "        pbar.set_description(f\"loss: {loss.item():.5f}\")"
   ],
   "metadata": {
    "collapsed": false,
    "ExecuteTime": {
     "end_time": "2024-03-25T18:23:23.324556Z",
     "start_time": "2024-03-25T18:15:45.742143Z"
    }
   },
   "id": "9f32c81bb87e6399",
   "execution_count": 11
  },
  {
   "cell_type": "code",
   "outputs": [
    {
     "name": "stdout",
     "output_type": "stream",
     "text": [
      "NeuralNumbers(\n",
      "  (flat): Flatten(start_dim=1, end_dim=-1)\n",
      "  (linear1): Linear(in_features=784, out_features=100, bias=True)\n",
      "  (linear2): Linear(in_features=100, out_features=100, bias=True)\n",
      "  (linear3): Linear(in_features=100, out_features=10, bias=True)\n",
      "  (activation): ReLU()\n",
      ")\n"
     ]
    }
   ],
   "source": [
    "print(model)"
   ],
   "metadata": {
    "collapsed": false,
    "ExecuteTime": {
     "end_time": "2024-03-25T18:23:23.331401Z",
     "start_time": "2024-03-25T18:23:23.325948Z"
    }
   },
   "id": "fcb6fc80ac3a1481",
   "execution_count": 12
  }
 ],
 "metadata": {
  "kernelspec": {
   "display_name": "Python 3",
   "language": "python",
   "name": "python3"
  },
  "language_info": {
   "codemirror_mode": {
    "name": "ipython",
    "version": 2
   },
   "file_extension": ".py",
   "mimetype": "text/x-python",
   "name": "python",
   "nbconvert_exporter": "python",
   "pygments_lexer": "ipython2",
   "version": "2.7.6"
  }
 },
 "nbformat": 4,
 "nbformat_minor": 5
}
